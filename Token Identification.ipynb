{
 "cells": [
  {
   "cell_type": "markdown",
   "id": "99855655",
   "metadata": {},
   "source": [
    "# Top Token Identification : Porter Stemmer, Lancaster Stemming, and Lemmatization"
   ]
  },
  {
   "cell_type": "markdown",
   "id": "45505c93",
   "metadata": {},
   "source": [
    "**Author - Lasya Nayani Bhatta**"
   ]
  },
  {
   "cell_type": "code",
   "execution_count": 1,
   "id": "c7f2a839",
   "metadata": {},
   "outputs": [],
   "source": [
    "import pandas as pd\n",
    "import matplotlib.pyplot as plt\n",
    "import seaborn as sns\n",
    "import re\n"
   ]
  },
  {
   "cell_type": "code",
   "execution_count": 6,
   "id": "1f94d6dc",
   "metadata": {},
   "outputs": [],
   "source": [
    "file_path = 'C:/Users/MANOJ/Downloads/Food_Inspections_20240106.csv'"
   ]
  },
  {
   "cell_type": "code",
   "execution_count": 7,
   "id": "de004455",
   "metadata": {},
   "outputs": [
    {
     "data": {
      "text/html": [
       "<div>\n",
       "<style scoped>\n",
       "    .dataframe tbody tr th:only-of-type {\n",
       "        vertical-align: middle;\n",
       "    }\n",
       "\n",
       "    .dataframe tbody tr th {\n",
       "        vertical-align: top;\n",
       "    }\n",
       "\n",
       "    .dataframe thead th {\n",
       "        text-align: right;\n",
       "    }\n",
       "</style>\n",
       "<table border=\"1\" class=\"dataframe\">\n",
       "  <thead>\n",
       "    <tr style=\"text-align: right;\">\n",
       "      <th></th>\n",
       "      <th>Inspection ID</th>\n",
       "      <th>DBA Name</th>\n",
       "      <th>AKA Name</th>\n",
       "      <th>License #</th>\n",
       "      <th>Facility Type</th>\n",
       "      <th>Risk</th>\n",
       "      <th>Address</th>\n",
       "      <th>City</th>\n",
       "      <th>State</th>\n",
       "      <th>Zip</th>\n",
       "      <th>Inspection Date</th>\n",
       "      <th>Inspection Type</th>\n",
       "      <th>Results</th>\n",
       "      <th>Violations</th>\n",
       "      <th>Latitude</th>\n",
       "      <th>Longitude</th>\n",
       "      <th>Location</th>\n",
       "    </tr>\n",
       "  </thead>\n",
       "  <tbody>\n",
       "    <tr>\n",
       "      <th>0</th>\n",
       "      <td>2587633</td>\n",
       "      <td>TACOS MARIO'S LIMITED</td>\n",
       "      <td>TACOS MARIO'S LIMITED</td>\n",
       "      <td>1447643.0</td>\n",
       "      <td>Restaurant</td>\n",
       "      <td>Risk 1 (High)</td>\n",
       "      <td>4540 W 63RD ST</td>\n",
       "      <td>CHICAGO</td>\n",
       "      <td>IL</td>\n",
       "      <td>60629.0</td>\n",
       "      <td>1/4/2024</td>\n",
       "      <td>Non-Inspection</td>\n",
       "      <td>No Entry</td>\n",
       "      <td>NaN</td>\n",
       "      <td>41.778606</td>\n",
       "      <td>-87.736592</td>\n",
       "      <td>(41.77860614662516, -87.73659163763277)</td>\n",
       "    </tr>\n",
       "    <tr>\n",
       "      <th>1</th>\n",
       "      <td>2587625</td>\n",
       "      <td>TAQUERIA EL ARCO #3 EL POLLO FELIZ, INC.</td>\n",
       "      <td>EL POLLO CRIS CRIS #3</td>\n",
       "      <td>1964458.0</td>\n",
       "      <td>Restaurant</td>\n",
       "      <td>Risk 1 (High)</td>\n",
       "      <td>7023-7025 S PULASKI RD</td>\n",
       "      <td>CHICAGO</td>\n",
       "      <td>IL</td>\n",
       "      <td>60629.0</td>\n",
       "      <td>1/4/2024</td>\n",
       "      <td>Canvass</td>\n",
       "      <td>Out of Business</td>\n",
       "      <td>NaN</td>\n",
       "      <td>41.765126</td>\n",
       "      <td>-87.722279</td>\n",
       "      <td>(41.765126421774134, -87.72227898862089)</td>\n",
       "    </tr>\n",
       "    <tr>\n",
       "      <th>2</th>\n",
       "      <td>2587598</td>\n",
       "      <td>Tel Aviv Slices Pizza LLC</td>\n",
       "      <td>Tel Aviv Slices Pizza LLC</td>\n",
       "      <td>2948183.0</td>\n",
       "      <td>NaN</td>\n",
       "      <td>Risk 1 (High)</td>\n",
       "      <td>3517 W DEVON AVE</td>\n",
       "      <td>CHICAGO</td>\n",
       "      <td>IL</td>\n",
       "      <td>60659.0</td>\n",
       "      <td>1/4/2024</td>\n",
       "      <td>License</td>\n",
       "      <td>Not Ready</td>\n",
       "      <td>NaN</td>\n",
       "      <td>41.997177</td>\n",
       "      <td>-87.717388</td>\n",
       "      <td>(41.99717696905116, -87.71738760229222)</td>\n",
       "    </tr>\n",
       "    <tr>\n",
       "      <th>3</th>\n",
       "      <td>2587596</td>\n",
       "      <td>KENSINGTON SCHOOL OF LINCOLN PARK</td>\n",
       "      <td>KENSINGTON SCHOOL OF LINCOLN PARK</td>\n",
       "      <td>2944036.0</td>\n",
       "      <td>Children's Services Facility</td>\n",
       "      <td>Risk 1 (High)</td>\n",
       "      <td>2745 N LINCOLN AVE</td>\n",
       "      <td>CHICAGO</td>\n",
       "      <td>IL</td>\n",
       "      <td>60614.0</td>\n",
       "      <td>1/4/2024</td>\n",
       "      <td>License</td>\n",
       "      <td>Pass</td>\n",
       "      <td>NaN</td>\n",
       "      <td>41.931779</td>\n",
       "      <td>-87.657407</td>\n",
       "      <td>(41.93177936843524, -87.65740695216547)</td>\n",
       "    </tr>\n",
       "    <tr>\n",
       "      <th>4</th>\n",
       "      <td>2587599</td>\n",
       "      <td>Q'S AUTHENTIC COOKING</td>\n",
       "      <td>Q'S AUTHENTIC COOKING</td>\n",
       "      <td>2757521.0</td>\n",
       "      <td>Restaurant</td>\n",
       "      <td>Risk 1 (High)</td>\n",
       "      <td>306 E 75TH ST</td>\n",
       "      <td>CHICAGO</td>\n",
       "      <td>IL</td>\n",
       "      <td>60619.0</td>\n",
       "      <td>1/4/2024</td>\n",
       "      <td>Canvass</td>\n",
       "      <td>Pass</td>\n",
       "      <td>55. PHYSICAL FACILITIES INSTALLED, MAINTAINED ...</td>\n",
       "      <td>41.758467</td>\n",
       "      <td>-87.617974</td>\n",
       "      <td>(41.75846743102775, -87.61797380173462)</td>\n",
       "    </tr>\n",
       "    <tr>\n",
       "      <th>...</th>\n",
       "      <td>...</td>\n",
       "      <td>...</td>\n",
       "      <td>...</td>\n",
       "      <td>...</td>\n",
       "      <td>...</td>\n",
       "      <td>...</td>\n",
       "      <td>...</td>\n",
       "      <td>...</td>\n",
       "      <td>...</td>\n",
       "      <td>...</td>\n",
       "      <td>...</td>\n",
       "      <td>...</td>\n",
       "      <td>...</td>\n",
       "      <td>...</td>\n",
       "      <td>...</td>\n",
       "      <td>...</td>\n",
       "      <td>...</td>\n",
       "    </tr>\n",
       "    <tr>\n",
       "      <th>265648</th>\n",
       "      <td>78350</td>\n",
       "      <td>ACE'S SOUL FOOD CAFE, INC.</td>\n",
       "      <td>ACE'S SOUL FOOD CAFE, INC.</td>\n",
       "      <td>1904903.0</td>\n",
       "      <td>Restaurant</td>\n",
       "      <td>Risk 1 (High)</td>\n",
       "      <td>432 E 63RD ST</td>\n",
       "      <td>CHICAGO</td>\n",
       "      <td>IL</td>\n",
       "      <td>60637.0</td>\n",
       "      <td>3/16/2010</td>\n",
       "      <td>Complaint</td>\n",
       "      <td>Fail</td>\n",
       "      <td>18. NO EVIDENCE OF RODENT OR INSECT OUTER OPEN...</td>\n",
       "      <td>41.780371</td>\n",
       "      <td>-87.614355</td>\n",
       "      <td>(41.78037142154735, -87.61435452532793)</td>\n",
       "    </tr>\n",
       "    <tr>\n",
       "      <th>265649</th>\n",
       "      <td>60350</td>\n",
       "      <td>PROVIDENCE ST. MEL SCHOOL</td>\n",
       "      <td>PROVIDENCE ST. MEL SCHOOL</td>\n",
       "      <td>2040661.0</td>\n",
       "      <td>School</td>\n",
       "      <td>Risk 1 (High)</td>\n",
       "      <td>119 S CENTRAL PARK AVE</td>\n",
       "      <td>CHICAGO</td>\n",
       "      <td>IL</td>\n",
       "      <td>60624.0</td>\n",
       "      <td>3/8/2010</td>\n",
       "      <td>Canvass</td>\n",
       "      <td>Pass</td>\n",
       "      <td>32. FOOD AND NON-FOOD CONTACT SURFACES PROPERL...</td>\n",
       "      <td>41.878902</td>\n",
       "      <td>-87.715683</td>\n",
       "      <td>(41.878902061837714, -87.71568319419137)</td>\n",
       "    </tr>\n",
       "    <tr>\n",
       "      <th>265650</th>\n",
       "      <td>78264</td>\n",
       "      <td>JAMAICA JERK SPICE, INC</td>\n",
       "      <td>JAMAICA JERK SPICE, INC</td>\n",
       "      <td>1909392.0</td>\n",
       "      <td>Restaurant</td>\n",
       "      <td>Risk 1 (High)</td>\n",
       "      <td>6500 S COTTAGE GROVE AVE</td>\n",
       "      <td>CHICAGO</td>\n",
       "      <td>IL</td>\n",
       "      <td>60637.0</td>\n",
       "      <td>1/19/2010</td>\n",
       "      <td>Complaint</td>\n",
       "      <td>Pass</td>\n",
       "      <td>30. FOOD IN ORIGINAL CONTAINER, PROPERLY LABEL...</td>\n",
       "      <td>41.776685</td>\n",
       "      <td>-87.605994</td>\n",
       "      <td>(41.776684614718135, -87.60599357890983)</td>\n",
       "    </tr>\n",
       "    <tr>\n",
       "      <th>265651</th>\n",
       "      <td>114374</td>\n",
       "      <td>NACIONAL 27/TALLBOY TACO</td>\n",
       "      <td>NACIONAL 27/TALLBOY TACO</td>\n",
       "      <td>80711.0</td>\n",
       "      <td>Restaurant</td>\n",
       "      <td>Risk 1 (High)</td>\n",
       "      <td>325 W HURON ST</td>\n",
       "      <td>CHICAGO</td>\n",
       "      <td>IL</td>\n",
       "      <td>60654.0</td>\n",
       "      <td>3/16/2010</td>\n",
       "      <td>Canvass</td>\n",
       "      <td>Pass</td>\n",
       "      <td>33. FOOD AND NON-FOOD CONTACT EQUIPMENT UTENSI...</td>\n",
       "      <td>41.894646</td>\n",
       "      <td>-87.636788</td>\n",
       "      <td>(41.8946456460705, -87.63678754035266)</td>\n",
       "    </tr>\n",
       "    <tr>\n",
       "      <th>265652</th>\n",
       "      <td>229217</td>\n",
       "      <td>KAMEHACHI  SUSHI CAFE</td>\n",
       "      <td>KAMEHACHI  SUSHI CAFE</td>\n",
       "      <td>1645648.0</td>\n",
       "      <td>Restaurant</td>\n",
       "      <td>Risk 1 (High)</td>\n",
       "      <td>311 S WACKER DR</td>\n",
       "      <td>CHICAGO</td>\n",
       "      <td>IL</td>\n",
       "      <td>60606.0</td>\n",
       "      <td>2/5/2010</td>\n",
       "      <td>Complaint</td>\n",
       "      <td>Fail</td>\n",
       "      <td>29. PREVIOUS MINOR VIOLATION(S) CORRECTED 7-42...</td>\n",
       "      <td>41.877792</td>\n",
       "      <td>-87.636524</td>\n",
       "      <td>(41.877791648104406, -87.63652434443534)</td>\n",
       "    </tr>\n",
       "  </tbody>\n",
       "</table>\n",
       "<p>265653 rows × 17 columns</p>\n",
       "</div>"
      ],
      "text/plain": [
       "        Inspection ID                                  DBA Name  \\\n",
       "0             2587633                     TACOS MARIO'S LIMITED   \n",
       "1             2587625  TAQUERIA EL ARCO #3 EL POLLO FELIZ, INC.   \n",
       "2             2587598                 Tel Aviv Slices Pizza LLC   \n",
       "3             2587596         KENSINGTON SCHOOL OF LINCOLN PARK   \n",
       "4             2587599                     Q'S AUTHENTIC COOKING   \n",
       "...               ...                                       ...   \n",
       "265648          78350                ACE'S SOUL FOOD CAFE, INC.   \n",
       "265649          60350                 PROVIDENCE ST. MEL SCHOOL   \n",
       "265650          78264                   JAMAICA JERK SPICE, INC   \n",
       "265651         114374                  NACIONAL 27/TALLBOY TACO   \n",
       "265652         229217                     KAMEHACHI  SUSHI CAFE   \n",
       "\n",
       "                                 AKA Name  License #  \\\n",
       "0                   TACOS MARIO'S LIMITED  1447643.0   \n",
       "1                   EL POLLO CRIS CRIS #3  1964458.0   \n",
       "2               Tel Aviv Slices Pizza LLC  2948183.0   \n",
       "3       KENSINGTON SCHOOL OF LINCOLN PARK  2944036.0   \n",
       "4                   Q'S AUTHENTIC COOKING  2757521.0   \n",
       "...                                   ...        ...   \n",
       "265648         ACE'S SOUL FOOD CAFE, INC.  1904903.0   \n",
       "265649          PROVIDENCE ST. MEL SCHOOL  2040661.0   \n",
       "265650            JAMAICA JERK SPICE, INC  1909392.0   \n",
       "265651           NACIONAL 27/TALLBOY TACO    80711.0   \n",
       "265652              KAMEHACHI  SUSHI CAFE  1645648.0   \n",
       "\n",
       "                       Facility Type           Risk  \\\n",
       "0                         Restaurant  Risk 1 (High)   \n",
       "1                         Restaurant  Risk 1 (High)   \n",
       "2                                NaN  Risk 1 (High)   \n",
       "3       Children's Services Facility  Risk 1 (High)   \n",
       "4                         Restaurant  Risk 1 (High)   \n",
       "...                              ...            ...   \n",
       "265648                    Restaurant  Risk 1 (High)   \n",
       "265649                        School  Risk 1 (High)   \n",
       "265650                    Restaurant  Risk 1 (High)   \n",
       "265651                    Restaurant  Risk 1 (High)   \n",
       "265652                    Restaurant  Risk 1 (High)   \n",
       "\n",
       "                          Address     City State      Zip Inspection Date  \\\n",
       "0                 4540 W 63RD ST   CHICAGO    IL  60629.0        1/4/2024   \n",
       "1         7023-7025 S PULASKI RD   CHICAGO    IL  60629.0        1/4/2024   \n",
       "2               3517 W DEVON AVE   CHICAGO    IL  60659.0        1/4/2024   \n",
       "3             2745 N LINCOLN AVE   CHICAGO    IL  60614.0        1/4/2024   \n",
       "4                  306 E 75TH ST   CHICAGO    IL  60619.0        1/4/2024   \n",
       "...                           ...      ...   ...      ...             ...   \n",
       "265648             432 E 63RD ST   CHICAGO    IL  60637.0       3/16/2010   \n",
       "265649    119 S CENTRAL PARK AVE   CHICAGO    IL  60624.0        3/8/2010   \n",
       "265650  6500 S COTTAGE GROVE AVE   CHICAGO    IL  60637.0       1/19/2010   \n",
       "265651            325 W HURON ST   CHICAGO    IL  60654.0       3/16/2010   \n",
       "265652           311 S WACKER DR   CHICAGO    IL  60606.0        2/5/2010   \n",
       "\n",
       "       Inspection Type          Results  \\\n",
       "0       Non-Inspection         No Entry   \n",
       "1              Canvass  Out of Business   \n",
       "2              License        Not Ready   \n",
       "3              License             Pass   \n",
       "4              Canvass             Pass   \n",
       "...                ...              ...   \n",
       "265648       Complaint             Fail   \n",
       "265649         Canvass             Pass   \n",
       "265650       Complaint             Pass   \n",
       "265651         Canvass             Pass   \n",
       "265652       Complaint             Fail   \n",
       "\n",
       "                                               Violations   Latitude  \\\n",
       "0                                                     NaN  41.778606   \n",
       "1                                                     NaN  41.765126   \n",
       "2                                                     NaN  41.997177   \n",
       "3                                                     NaN  41.931779   \n",
       "4       55. PHYSICAL FACILITIES INSTALLED, MAINTAINED ...  41.758467   \n",
       "...                                                   ...        ...   \n",
       "265648  18. NO EVIDENCE OF RODENT OR INSECT OUTER OPEN...  41.780371   \n",
       "265649  32. FOOD AND NON-FOOD CONTACT SURFACES PROPERL...  41.878902   \n",
       "265650  30. FOOD IN ORIGINAL CONTAINER, PROPERLY LABEL...  41.776685   \n",
       "265651  33. FOOD AND NON-FOOD CONTACT EQUIPMENT UTENSI...  41.894646   \n",
       "265652  29. PREVIOUS MINOR VIOLATION(S) CORRECTED 7-42...  41.877792   \n",
       "\n",
       "        Longitude                                  Location  \n",
       "0      -87.736592   (41.77860614662516, -87.73659163763277)  \n",
       "1      -87.722279  (41.765126421774134, -87.72227898862089)  \n",
       "2      -87.717388   (41.99717696905116, -87.71738760229222)  \n",
       "3      -87.657407   (41.93177936843524, -87.65740695216547)  \n",
       "4      -87.617974   (41.75846743102775, -87.61797380173462)  \n",
       "...           ...                                       ...  \n",
       "265648 -87.614355   (41.78037142154735, -87.61435452532793)  \n",
       "265649 -87.715683  (41.878902061837714, -87.71568319419137)  \n",
       "265650 -87.605994  (41.776684614718135, -87.60599357890983)  \n",
       "265651 -87.636788    (41.8946456460705, -87.63678754035266)  \n",
       "265652 -87.636524  (41.877791648104406, -87.63652434443534)  \n",
       "\n",
       "[265653 rows x 17 columns]"
      ]
     },
     "execution_count": 7,
     "metadata": {},
     "output_type": "execute_result"
    }
   ],
   "source": [
    "data = pd.read_csv(file_path)\n",
    "data"
   ]
  },
  {
   "cell_type": "markdown",
   "id": "e56c7b36",
   "metadata": {},
   "source": [
    "**1. Filter the data for failed inspections and only keep records where Violations description is not blank.**"
   ]
  },
  {
   "cell_type": "code",
   "execution_count": 8,
   "id": "49a48170",
   "metadata": {},
   "outputs": [],
   "source": [
    "InspectionFail = data[(data['Results'] == 'Fail') & data['Violations'].notna()]"
   ]
  },
  {
   "cell_type": "code",
   "execution_count": 9,
   "id": "94eddc19",
   "metadata": {},
   "outputs": [
    {
     "data": {
      "text/plain": [
       "48413"
      ]
     },
     "execution_count": 9,
     "metadata": {},
     "output_type": "execute_result"
    }
   ],
   "source": [
    "num_records = len(InspectionFail)\n",
    "num_records"
   ]
  },
  {
   "cell_type": "code",
   "execution_count": 10,
   "id": "cf752d8a",
   "metadata": {},
   "outputs": [
    {
     "name": "stderr",
     "output_type": "stream",
     "text": [
      "C:\\Users\\MANOJ\\AppData\\Local\\Temp\\ipykernel_22072\\2332584985.py:1: SettingWithCopyWarning: \n",
      "A value is trying to be set on a copy of a slice from a DataFrame.\n",
      "Try using .loc[row_indexer,col_indexer] = value instead\n",
      "\n",
      "See the caveats in the documentation: https://pandas.pydata.org/pandas-docs/stable/user_guide/indexing.html#returning-a-view-versus-a-copy\n",
      "  InspectionFail['Violations'] = InspectionFail['Violations'].str.split('\\|')\n"
     ]
    }
   ],
   "source": [
    "InspectionFail['Violations'] = InspectionFail['Violations'].str.split('\\|')\n",
    "InspectionFail = InspectionFail.explode('Violations')"
   ]
  },
  {
   "cell_type": "code",
   "execution_count": 11,
   "id": "0641891e",
   "metadata": {},
   "outputs": [
    {
     "data": {
      "text/html": [
       "<div>\n",
       "<style scoped>\n",
       "    .dataframe tbody tr th:only-of-type {\n",
       "        vertical-align: middle;\n",
       "    }\n",
       "\n",
       "    .dataframe tbody tr th {\n",
       "        vertical-align: top;\n",
       "    }\n",
       "\n",
       "    .dataframe thead th {\n",
       "        text-align: right;\n",
       "    }\n",
       "</style>\n",
       "<table border=\"1\" class=\"dataframe\">\n",
       "  <thead>\n",
       "    <tr style=\"text-align: right;\">\n",
       "      <th></th>\n",
       "      <th>Inspection ID</th>\n",
       "      <th>DBA Name</th>\n",
       "      <th>AKA Name</th>\n",
       "      <th>License #</th>\n",
       "      <th>Facility Type</th>\n",
       "      <th>Risk</th>\n",
       "      <th>Address</th>\n",
       "      <th>City</th>\n",
       "      <th>State</th>\n",
       "      <th>Zip</th>\n",
       "      <th>Inspection Date</th>\n",
       "      <th>Inspection Type</th>\n",
       "      <th>Results</th>\n",
       "      <th>Violations</th>\n",
       "      <th>Latitude</th>\n",
       "      <th>Longitude</th>\n",
       "      <th>Location</th>\n",
       "    </tr>\n",
       "  </thead>\n",
       "  <tbody>\n",
       "    <tr>\n",
       "      <th>42</th>\n",
       "      <td>2587039</td>\n",
       "      <td>SORA TEMAKERIA, LLC</td>\n",
       "      <td>SORA TEMAKERIA, LLC</td>\n",
       "      <td>2569202.0</td>\n",
       "      <td>Restaurant</td>\n",
       "      <td>Risk 1 (High)</td>\n",
       "      <td>3508 W 26TH ST</td>\n",
       "      <td>CHICAGO</td>\n",
       "      <td>IL</td>\n",
       "      <td>60623.0</td>\n",
       "      <td>12/15/2023</td>\n",
       "      <td>Canvass Re-Inspection</td>\n",
       "      <td>Fail</td>\n",
       "      <td>59. PREVIOUS PRIORITY FOUNDATION VIOLATION COR...</td>\n",
       "      <td>41.844516</td>\n",
       "      <td>-87.712776</td>\n",
       "      <td>(41.84451619427469, -87.71277572197552)</td>\n",
       "    </tr>\n",
       "    <tr>\n",
       "      <th>46</th>\n",
       "      <td>2586974</td>\n",
       "      <td>CAFE 1850</td>\n",
       "      <td>CAFE 1850</td>\n",
       "      <td>2590022.0</td>\n",
       "      <td>Restaurant</td>\n",
       "      <td>Risk 1 (High)</td>\n",
       "      <td>1850 W ROOSEVELT RD</td>\n",
       "      <td>CHICAGO</td>\n",
       "      <td>IL</td>\n",
       "      <td>60608.0</td>\n",
       "      <td>12/14/2023</td>\n",
       "      <td>Canvass</td>\n",
       "      <td>Fail</td>\n",
       "      <td>10. ADEQUATE HANDWASHING SINKS PROPERLY SUPPLI...</td>\n",
       "      <td>41.866906</td>\n",
       "      <td>-87.673316</td>\n",
       "      <td>(41.86690583756181, -87.6733159162735)</td>\n",
       "    </tr>\n",
       "    <tr>\n",
       "      <th>46</th>\n",
       "      <td>2586974</td>\n",
       "      <td>CAFE 1850</td>\n",
       "      <td>CAFE 1850</td>\n",
       "      <td>2590022.0</td>\n",
       "      <td>Restaurant</td>\n",
       "      <td>Risk 1 (High)</td>\n",
       "      <td>1850 W ROOSEVELT RD</td>\n",
       "      <td>CHICAGO</td>\n",
       "      <td>IL</td>\n",
       "      <td>60608.0</td>\n",
       "      <td>12/14/2023</td>\n",
       "      <td>Canvass</td>\n",
       "      <td>Fail</td>\n",
       "      <td>58. ALLERGEN TRAINING AS REQUIRED - Comments:...</td>\n",
       "      <td>41.866906</td>\n",
       "      <td>-87.673316</td>\n",
       "      <td>(41.86690583756181, -87.6733159162735)</td>\n",
       "    </tr>\n",
       "    <tr>\n",
       "      <th>56</th>\n",
       "      <td>2586823</td>\n",
       "      <td>ALL ABOUT KIDS LEARNING ACADEMY</td>\n",
       "      <td>ALL ABOUT KIDS LEARNING ACADEMY</td>\n",
       "      <td>2384881.0</td>\n",
       "      <td>Children's Services Facility</td>\n",
       "      <td>Risk 1 (High)</td>\n",
       "      <td>504-516 E 75TH ST</td>\n",
       "      <td>CHICAGO</td>\n",
       "      <td>IL</td>\n",
       "      <td>60619.0</td>\n",
       "      <td>12/12/2023</td>\n",
       "      <td>Canvass</td>\n",
       "      <td>Fail</td>\n",
       "      <td>10. ADEQUATE HANDWASHING SINKS PROPERLY SUPPLI...</td>\n",
       "      <td>41.758567</td>\n",
       "      <td>-87.612451</td>\n",
       "      <td>(41.758566800153645, -87.61245073862713)</td>\n",
       "    </tr>\n",
       "    <tr>\n",
       "      <th>56</th>\n",
       "      <td>2586823</td>\n",
       "      <td>ALL ABOUT KIDS LEARNING ACADEMY</td>\n",
       "      <td>ALL ABOUT KIDS LEARNING ACADEMY</td>\n",
       "      <td>2384881.0</td>\n",
       "      <td>Children's Services Facility</td>\n",
       "      <td>Risk 1 (High)</td>\n",
       "      <td>504-516 E 75TH ST</td>\n",
       "      <td>CHICAGO</td>\n",
       "      <td>IL</td>\n",
       "      <td>60619.0</td>\n",
       "      <td>12/12/2023</td>\n",
       "      <td>Canvass</td>\n",
       "      <td>Fail</td>\n",
       "      <td>36. THERMOMETERS PROVIDED &amp; ACCURATE - Commen...</td>\n",
       "      <td>41.758567</td>\n",
       "      <td>-87.612451</td>\n",
       "      <td>(41.758566800153645, -87.61245073862713)</td>\n",
       "    </tr>\n",
       "  </tbody>\n",
       "</table>\n",
       "</div>"
      ],
      "text/plain": [
       "    Inspection ID                         DBA Name  \\\n",
       "42        2587039              SORA TEMAKERIA, LLC   \n",
       "46        2586974                        CAFE 1850   \n",
       "46        2586974                        CAFE 1850   \n",
       "56        2586823  ALL ABOUT KIDS LEARNING ACADEMY   \n",
       "56        2586823  ALL ABOUT KIDS LEARNING ACADEMY   \n",
       "\n",
       "                           AKA Name  License #                 Facility Type  \\\n",
       "42              SORA TEMAKERIA, LLC  2569202.0                    Restaurant   \n",
       "46                        CAFE 1850  2590022.0                    Restaurant   \n",
       "46                        CAFE 1850  2590022.0                    Restaurant   \n",
       "56  ALL ABOUT KIDS LEARNING ACADEMY  2384881.0  Children's Services Facility   \n",
       "56  ALL ABOUT KIDS LEARNING ACADEMY  2384881.0  Children's Services Facility   \n",
       "\n",
       "             Risk               Address     City State      Zip  \\\n",
       "42  Risk 1 (High)       3508 W 26TH ST   CHICAGO    IL  60623.0   \n",
       "46  Risk 1 (High)  1850 W ROOSEVELT RD   CHICAGO    IL  60608.0   \n",
       "46  Risk 1 (High)  1850 W ROOSEVELT RD   CHICAGO    IL  60608.0   \n",
       "56  Risk 1 (High)    504-516 E 75TH ST   CHICAGO    IL  60619.0   \n",
       "56  Risk 1 (High)    504-516 E 75TH ST   CHICAGO    IL  60619.0   \n",
       "\n",
       "   Inspection Date        Inspection Type Results  \\\n",
       "42      12/15/2023  Canvass Re-Inspection    Fail   \n",
       "46      12/14/2023                Canvass    Fail   \n",
       "46      12/14/2023                Canvass    Fail   \n",
       "56      12/12/2023                Canvass    Fail   \n",
       "56      12/12/2023                Canvass    Fail   \n",
       "\n",
       "                                           Violations   Latitude  Longitude  \\\n",
       "42  59. PREVIOUS PRIORITY FOUNDATION VIOLATION COR...  41.844516 -87.712776   \n",
       "46  10. ADEQUATE HANDWASHING SINKS PROPERLY SUPPLI...  41.866906 -87.673316   \n",
       "46   58. ALLERGEN TRAINING AS REQUIRED - Comments:...  41.866906 -87.673316   \n",
       "56  10. ADEQUATE HANDWASHING SINKS PROPERLY SUPPLI...  41.758567 -87.612451   \n",
       "56   36. THERMOMETERS PROVIDED & ACCURATE - Commen...  41.758567 -87.612451   \n",
       "\n",
       "                                    Location  \n",
       "42   (41.84451619427469, -87.71277572197552)  \n",
       "46    (41.86690583756181, -87.6733159162735)  \n",
       "46    (41.86690583756181, -87.6733159162735)  \n",
       "56  (41.758566800153645, -87.61245073862713)  \n",
       "56  (41.758566800153645, -87.61245073862713)  "
      ]
     },
     "execution_count": 11,
     "metadata": {},
     "output_type": "execute_result"
    }
   ],
   "source": [
    "InspectionFail.head(5)"
   ]
  },
  {
   "cell_type": "code",
   "execution_count": 12,
   "id": "67078fdd",
   "metadata": {},
   "outputs": [
    {
     "data": {
      "text/plain": [
       "(320420, 17)"
      ]
     },
     "execution_count": 12,
     "metadata": {},
     "output_type": "execute_result"
    }
   ],
   "source": [
    "InspectionFail.shape"
   ]
  },
  {
   "cell_type": "markdown",
   "id": "d702263a",
   "metadata": {},
   "source": [
    "**2. Using regex, separate the violation description and comments into separate data frame columns.**"
   ]
  },
  {
   "cell_type": "code",
   "execution_count": 38,
   "id": "4aacd324",
   "metadata": {},
   "outputs": [],
   "source": [
    "import re\n",
    "import pandas as pd\n",
    "\n",
    "regex = re.compile(r\"(?P<Code>[\\d.]+)\\s(?P<Description>.*?)\\s-\\sComments:\\s(?P<Comments>.*)\")\n",
    "def clean_violations(violations):\n",
    "    if isinstance(violations, str):  # Check if the input is a string\n",
    "        match = regex.search(violations)\n",
    "        if match:\n",
    "            # Extract the \"Description\" and \"Comments\" groups from the regular expression match\n",
    "            description = match.group(\"Description\").strip()\n",
    "            comments = match.group(\"Comments\").strip()\n",
    "            return description, comments\n",
    "    return \"\", \"\""
   ]
  },
  {
   "cell_type": "code",
   "execution_count": 39,
   "id": "eb90ff77",
   "metadata": {},
   "outputs": [],
   "source": [
    "InspectionFail[['Description', 'Comments']] = InspectionFail['Violations'].apply(clean_violations).apply(pd.Series)\n",
    "# Drop the 'Violations' column if you no longer need it\n",
    "#InspectionFail = InspectionFail.drop('Violations', axis=1)\n",
    "\n",
    "#print(InspectionFail)"
   ]
  },
  {
   "cell_type": "code",
   "execution_count": 40,
   "id": "056e6071",
   "metadata": {},
   "outputs": [
    {
     "data": {
      "text/html": [
       "<div>\n",
       "<style scoped>\n",
       "    .dataframe tbody tr th:only-of-type {\n",
       "        vertical-align: middle;\n",
       "    }\n",
       "\n",
       "    .dataframe tbody tr th {\n",
       "        vertical-align: top;\n",
       "    }\n",
       "\n",
       "    .dataframe thead th {\n",
       "        text-align: right;\n",
       "    }\n",
       "</style>\n",
       "<table border=\"1\" class=\"dataframe\">\n",
       "  <thead>\n",
       "    <tr style=\"text-align: right;\">\n",
       "      <th></th>\n",
       "      <th>Inspection ID</th>\n",
       "      <th>DBA Name</th>\n",
       "      <th>AKA Name</th>\n",
       "      <th>License #</th>\n",
       "      <th>Facility Type</th>\n",
       "      <th>Risk</th>\n",
       "      <th>Address</th>\n",
       "      <th>City</th>\n",
       "      <th>State</th>\n",
       "      <th>Zip</th>\n",
       "      <th>...</th>\n",
       "      <th>Violations</th>\n",
       "      <th>Latitude</th>\n",
       "      <th>Longitude</th>\n",
       "      <th>Location</th>\n",
       "      <th>Description</th>\n",
       "      <th>Comments</th>\n",
       "      <th>tokens_description</th>\n",
       "      <th>tokens_comments</th>\n",
       "      <th>cleaned_tokens_description</th>\n",
       "      <th>cleaned_tokens_comments</th>\n",
       "    </tr>\n",
       "  </thead>\n",
       "  <tbody>\n",
       "    <tr>\n",
       "      <th>0</th>\n",
       "      <td>2587039</td>\n",
       "      <td>SORA TEMAKERIA, LLC</td>\n",
       "      <td>SORA TEMAKERIA, LLC</td>\n",
       "      <td>2569202.0</td>\n",
       "      <td>Restaurant</td>\n",
       "      <td>Risk 1 (High)</td>\n",
       "      <td>3508 W 26TH ST</td>\n",
       "      <td>CHICAGO</td>\n",
       "      <td>IL</td>\n",
       "      <td>60623.0</td>\n",
       "      <td>...</td>\n",
       "      <td>59. PREVIOUS PRIORITY FOUNDATION VIOLATION COR...</td>\n",
       "      <td>41.844516</td>\n",
       "      <td>-87.712776</td>\n",
       "      <td>(41.84451619427469, -87.71277572197552)</td>\n",
       "      <td>PREVIOUS PRIORITY FOUNDATION VIOLATION CORRECTED</td>\n",
       "      <td>PREVIOUS PRIORITY FOUNDATION NOT CORRECTED FRO...</td>\n",
       "      <td>[PREVIOUS, PRIORITY, FOUNDATION, VIOLATION, CO...</td>\n",
       "      <td>[PREVIOUS, PRIORITY, FOUNDATION, NOT, CORRECTE...</td>\n",
       "      <td>[previous, priority, foundation, violation, co...</td>\n",
       "      <td>[previous, priority, foundation, corrected, re...</td>\n",
       "    </tr>\n",
       "    <tr>\n",
       "      <th>1</th>\n",
       "      <td>2586974</td>\n",
       "      <td>CAFE 1850</td>\n",
       "      <td>CAFE 1850</td>\n",
       "      <td>2590022.0</td>\n",
       "      <td>Restaurant</td>\n",
       "      <td>Risk 1 (High)</td>\n",
       "      <td>1850 W ROOSEVELT RD</td>\n",
       "      <td>CHICAGO</td>\n",
       "      <td>IL</td>\n",
       "      <td>60608.0</td>\n",
       "      <td>...</td>\n",
       "      <td>10. ADEQUATE HANDWASHING SINKS PROPERLY SUPPLI...</td>\n",
       "      <td>41.866906</td>\n",
       "      <td>-87.673316</td>\n",
       "      <td>(41.86690583756181, -87.6733159162735)</td>\n",
       "      <td>ADEQUATE HANDWASHING SINKS PROPERLY SUPPLIED A...</td>\n",
       "      <td>FOUND CUSTOMER AND EMPLOYEE WOMEN'S AND MEN'S ...</td>\n",
       "      <td>[ADEQUATE, HANDWASHING, SINKS, PROPERLY, SUPPL...</td>\n",
       "      <td>[FOUND, CUSTOMER, AND, EMPLOYEE, WOMEN, 'S, AN...</td>\n",
       "      <td>[adequate, handwashing, sinks, properly, suppl...</td>\n",
       "      <td>[found, customer, employee, women, men, toilet...</td>\n",
       "    </tr>\n",
       "    <tr>\n",
       "      <th>2</th>\n",
       "      <td>2586974</td>\n",
       "      <td>CAFE 1850</td>\n",
       "      <td>CAFE 1850</td>\n",
       "      <td>2590022.0</td>\n",
       "      <td>Restaurant</td>\n",
       "      <td>Risk 1 (High)</td>\n",
       "      <td>1850 W ROOSEVELT RD</td>\n",
       "      <td>CHICAGO</td>\n",
       "      <td>IL</td>\n",
       "      <td>60608.0</td>\n",
       "      <td>...</td>\n",
       "      <td>58. ALLERGEN TRAINING AS REQUIRED - Comments:...</td>\n",
       "      <td>41.866906</td>\n",
       "      <td>-87.673316</td>\n",
       "      <td>(41.86690583756181, -87.6733159162735)</td>\n",
       "      <td>ALLERGEN TRAINING AS REQUIRED</td>\n",
       "      <td>FOUND CITY OF CHICAGO FOOD SERVICE MANAGER WIT...</td>\n",
       "      <td>[]</td>\n",
       "      <td>[]</td>\n",
       "      <td>[]</td>\n",
       "      <td>[]</td>\n",
       "    </tr>\n",
       "    <tr>\n",
       "      <th>3</th>\n",
       "      <td>2586823</td>\n",
       "      <td>ALL ABOUT KIDS LEARNING ACADEMY</td>\n",
       "      <td>ALL ABOUT KIDS LEARNING ACADEMY</td>\n",
       "      <td>2384881.0</td>\n",
       "      <td>Children's Services Facility</td>\n",
       "      <td>Risk 1 (High)</td>\n",
       "      <td>504-516 E 75TH ST</td>\n",
       "      <td>CHICAGO</td>\n",
       "      <td>IL</td>\n",
       "      <td>60619.0</td>\n",
       "      <td>...</td>\n",
       "      <td>10. ADEQUATE HANDWASHING SINKS PROPERLY SUPPLI...</td>\n",
       "      <td>41.758567</td>\n",
       "      <td>-87.612451</td>\n",
       "      <td>(41.758566800153645, -87.61245073862713)</td>\n",
       "      <td>ADEQUATE HANDWASHING SINKS PROPERLY SUPPLIED A...</td>\n",
       "      <td>OBSERVED HOT RUNNING WATER TEMPERATURE AT HAND...</td>\n",
       "      <td>[ADEQUATE, HANDWASHING, SINKS, PROPERLY, SUPPL...</td>\n",
       "      <td>[OBSERVED, HOT, RUNNING, WATER, TEMPERATURE, A...</td>\n",
       "      <td>[adequate, handwashing, sinks, properly, suppl...</td>\n",
       "      <td>[observed, hot, running, water, temperature, h...</td>\n",
       "    </tr>\n",
       "    <tr>\n",
       "      <th>4</th>\n",
       "      <td>2586823</td>\n",
       "      <td>ALL ABOUT KIDS LEARNING ACADEMY</td>\n",
       "      <td>ALL ABOUT KIDS LEARNING ACADEMY</td>\n",
       "      <td>2384881.0</td>\n",
       "      <td>Children's Services Facility</td>\n",
       "      <td>Risk 1 (High)</td>\n",
       "      <td>504-516 E 75TH ST</td>\n",
       "      <td>CHICAGO</td>\n",
       "      <td>IL</td>\n",
       "      <td>60619.0</td>\n",
       "      <td>...</td>\n",
       "      <td>36. THERMOMETERS PROVIDED &amp; ACCURATE - Commen...</td>\n",
       "      <td>41.758567</td>\n",
       "      <td>-87.612451</td>\n",
       "      <td>(41.758566800153645, -87.61245073862713)</td>\n",
       "      <td>THERMOMETERS PROVIDED &amp; ACCURATE</td>\n",
       "      <td>MUST PROVIDE THERMOMETER FOR REFRIGERATOR IN C...</td>\n",
       "      <td>[]</td>\n",
       "      <td>[]</td>\n",
       "      <td>[]</td>\n",
       "      <td>[]</td>\n",
       "    </tr>\n",
       "  </tbody>\n",
       "</table>\n",
       "<p>5 rows × 23 columns</p>\n",
       "</div>"
      ],
      "text/plain": [
       "   Inspection ID                         DBA Name  \\\n",
       "0        2587039              SORA TEMAKERIA, LLC   \n",
       "1        2586974                        CAFE 1850   \n",
       "2        2586974                        CAFE 1850   \n",
       "3        2586823  ALL ABOUT KIDS LEARNING ACADEMY   \n",
       "4        2586823  ALL ABOUT KIDS LEARNING ACADEMY   \n",
       "\n",
       "                          AKA Name  License #                 Facility Type  \\\n",
       "0              SORA TEMAKERIA, LLC  2569202.0                    Restaurant   \n",
       "1                        CAFE 1850  2590022.0                    Restaurant   \n",
       "2                        CAFE 1850  2590022.0                    Restaurant   \n",
       "3  ALL ABOUT KIDS LEARNING ACADEMY  2384881.0  Children's Services Facility   \n",
       "4  ALL ABOUT KIDS LEARNING ACADEMY  2384881.0  Children's Services Facility   \n",
       "\n",
       "            Risk               Address     City State      Zip  ...  \\\n",
       "0  Risk 1 (High)       3508 W 26TH ST   CHICAGO    IL  60623.0  ...   \n",
       "1  Risk 1 (High)  1850 W ROOSEVELT RD   CHICAGO    IL  60608.0  ...   \n",
       "2  Risk 1 (High)  1850 W ROOSEVELT RD   CHICAGO    IL  60608.0  ...   \n",
       "3  Risk 1 (High)    504-516 E 75TH ST   CHICAGO    IL  60619.0  ...   \n",
       "4  Risk 1 (High)    504-516 E 75TH ST   CHICAGO    IL  60619.0  ...   \n",
       "\n",
       "                                          Violations   Latitude  Longitude  \\\n",
       "0  59. PREVIOUS PRIORITY FOUNDATION VIOLATION COR...  41.844516 -87.712776   \n",
       "1  10. ADEQUATE HANDWASHING SINKS PROPERLY SUPPLI...  41.866906 -87.673316   \n",
       "2   58. ALLERGEN TRAINING AS REQUIRED - Comments:...  41.866906 -87.673316   \n",
       "3  10. ADEQUATE HANDWASHING SINKS PROPERLY SUPPLI...  41.758567 -87.612451   \n",
       "4   36. THERMOMETERS PROVIDED & ACCURATE - Commen...  41.758567 -87.612451   \n",
       "\n",
       "                                   Location  \\\n",
       "0   (41.84451619427469, -87.71277572197552)   \n",
       "1    (41.86690583756181, -87.6733159162735)   \n",
       "2    (41.86690583756181, -87.6733159162735)   \n",
       "3  (41.758566800153645, -87.61245073862713)   \n",
       "4  (41.758566800153645, -87.61245073862713)   \n",
       "\n",
       "                                         Description  \\\n",
       "0   PREVIOUS PRIORITY FOUNDATION VIOLATION CORRECTED   \n",
       "1  ADEQUATE HANDWASHING SINKS PROPERLY SUPPLIED A...   \n",
       "2                      ALLERGEN TRAINING AS REQUIRED   \n",
       "3  ADEQUATE HANDWASHING SINKS PROPERLY SUPPLIED A...   \n",
       "4                   THERMOMETERS PROVIDED & ACCURATE   \n",
       "\n",
       "                                            Comments  \\\n",
       "0  PREVIOUS PRIORITY FOUNDATION NOT CORRECTED FRO...   \n",
       "1  FOUND CUSTOMER AND EMPLOYEE WOMEN'S AND MEN'S ...   \n",
       "2  FOUND CITY OF CHICAGO FOOD SERVICE MANAGER WIT...   \n",
       "3  OBSERVED HOT RUNNING WATER TEMPERATURE AT HAND...   \n",
       "4  MUST PROVIDE THERMOMETER FOR REFRIGERATOR IN C...   \n",
       "\n",
       "                                  tokens_description  \\\n",
       "0  [PREVIOUS, PRIORITY, FOUNDATION, VIOLATION, CO...   \n",
       "1  [ADEQUATE, HANDWASHING, SINKS, PROPERLY, SUPPL...   \n",
       "2                                                 []   \n",
       "3  [ADEQUATE, HANDWASHING, SINKS, PROPERLY, SUPPL...   \n",
       "4                                                 []   \n",
       "\n",
       "                                     tokens_comments  \\\n",
       "0  [PREVIOUS, PRIORITY, FOUNDATION, NOT, CORRECTE...   \n",
       "1  [FOUND, CUSTOMER, AND, EMPLOYEE, WOMEN, 'S, AN...   \n",
       "2                                                 []   \n",
       "3  [OBSERVED, HOT, RUNNING, WATER, TEMPERATURE, A...   \n",
       "4                                                 []   \n",
       "\n",
       "                          cleaned_tokens_description  \\\n",
       "0  [previous, priority, foundation, violation, co...   \n",
       "1  [adequate, handwashing, sinks, properly, suppl...   \n",
       "2                                                 []   \n",
       "3  [adequate, handwashing, sinks, properly, suppl...   \n",
       "4                                                 []   \n",
       "\n",
       "                             cleaned_tokens_comments  \n",
       "0  [previous, priority, foundation, corrected, re...  \n",
       "1  [found, customer, employee, women, men, toilet...  \n",
       "2                                                 []  \n",
       "3  [observed, hot, running, water, temperature, h...  \n",
       "4                                                 []  \n",
       "\n",
       "[5 rows x 23 columns]"
      ]
     },
     "execution_count": 40,
     "metadata": {},
     "output_type": "execute_result"
    }
   ],
   "source": [
    "InspectionFail.head(5)"
   ]
  },
  {
   "cell_type": "code",
   "execution_count": 41,
   "id": "7888bfa1",
   "metadata": {},
   "outputs": [],
   "source": [
    "# Drop the 'Violations' column if you no longer need it\n",
    "#InspectionFail = InspectionFail.drop('Violations', axis=1)"
   ]
  },
  {
   "cell_type": "code",
   "execution_count": 12,
   "id": "a00eae0b",
   "metadata": {},
   "outputs": [],
   "source": [
    "#InspectionFail = InspectionFail.dropna(subset=['Description', 'Comments'])"
   ]
  },
  {
   "cell_type": "markdown",
   "id": "d30d9787",
   "metadata": {},
   "source": [
    "**3. Tokenize violation description and comment columns**"
   ]
  },
  {
   "cell_type": "code",
   "execution_count": 42,
   "id": "aa67dccd",
   "metadata": {},
   "outputs": [
    {
     "name": "stdout",
     "output_type": "stream",
     "text": [
      "Defaulting to user installation because normal site-packages is not writeableNote: you may need to restart the kernel to use updated packages.\n",
      "\n",
      "Requirement already satisfied: nltk in c:\\programdata\\anaconda3\\lib\\site-packages (3.7)\n",
      "Requirement already satisfied: tqdm in c:\\programdata\\anaconda3\\lib\\site-packages (from nltk) (4.64.1)\n",
      "Requirement already satisfied: regex>=2021.8.3 in c:\\programdata\\anaconda3\\lib\\site-packages (from nltk) (2022.7.9)\n",
      "Requirement already satisfied: joblib in c:\\programdata\\anaconda3\\lib\\site-packages (from nltk) (1.1.1)\n",
      "Requirement already satisfied: click in c:\\programdata\\anaconda3\\lib\\site-packages (from nltk) (8.0.4)\n",
      "Requirement already satisfied: colorama in c:\\programdata\\anaconda3\\lib\\site-packages (from click->nltk) (0.4.6)\n"
     ]
    }
   ],
   "source": [
    "pip install nltk"
   ]
  },
  {
   "cell_type": "code",
   "execution_count": 43,
   "id": "90107fd9",
   "metadata": {},
   "outputs": [
    {
     "name": "stdout",
     "output_type": "stream",
     "text": [
      "Defaulting to user installation because normal site-packages is not writeable\n",
      "Requirement already satisfied: tqdm in c:\\programdata\\anaconda3\\lib\\site-packages (4.64.1)\n",
      "Requirement already satisfied: colorama in c:\\programdata\\anaconda3\\lib\\site-packages (from tqdm) (0.4.6)\n"
     ]
    }
   ],
   "source": [
    "!pip install tqdm\n"
   ]
  },
  {
   "cell_type": "code",
   "execution_count": 44,
   "id": "a03ac66d",
   "metadata": {},
   "outputs": [],
   "source": [
    "import nltk as nltk"
   ]
  },
  {
   "cell_type": "code",
   "execution_count": 45,
   "id": "074cd6d0",
   "metadata": {},
   "outputs": [],
   "source": [
    "from nltk.tokenize import word_tokenize"
   ]
  },
  {
   "cell_type": "code",
   "execution_count": 46,
   "id": "9fa0f3c0",
   "metadata": {},
   "outputs": [],
   "source": [
    "from tqdm import tqdm"
   ]
  },
  {
   "cell_type": "code",
   "execution_count": 47,
   "id": "81c1b993",
   "metadata": {},
   "outputs": [],
   "source": [
    "InspectionFail = InspectionFail.reset_index(drop=True)"
   ]
  },
  {
   "cell_type": "code",
   "execution_count": 48,
   "id": "3538fffa",
   "metadata": {},
   "outputs": [],
   "source": [
    "InspectionFail['Description'] = InspectionFail['Description'].astype(str)\n",
    "InspectionFail['Comments'] = InspectionFail['Comments'].astype(str)"
   ]
  },
  {
   "cell_type": "code",
   "execution_count": 49,
   "id": "cff16483",
   "metadata": {},
   "outputs": [
    {
     "name": "stderr",
     "output_type": "stream",
     "text": [
      "100%|██████████| 320420/320420 [01:00<00:00, 5334.64it/s]\n",
      "100%|██████████| 320420/320420 [02:39<00:00, 2003.97it/s]\n"
     ]
    }
   ],
   "source": [
    "tqdm.pandas()\n",
    "InspectionFail['tokens_description'] = InspectionFail['Description'].progress_apply(word_tokenize)\n",
    "InspectionFail['tokens_comments'] = InspectionFail['Comments'].progress_apply(word_tokenize)"
   ]
  },
  {
   "cell_type": "markdown",
   "id": "6d8e4e8b",
   "metadata": {},
   "source": [
    "**4. Find top-10 tokens of each column**\n"
   ]
  },
  {
   "cell_type": "code",
   "execution_count": 50,
   "id": "55cc33a4",
   "metadata": {},
   "outputs": [],
   "source": [
    "from nltk import FreqDist"
   ]
  },
  {
   "cell_type": "code",
   "execution_count": 51,
   "id": "de100fa7",
   "metadata": {},
   "outputs": [],
   "source": [
    "top_10_tokens_description = InspectionFail['tokens_description'].explode().value_counts().head(10)\n",
    "top_10_tokens_comments = InspectionFail['tokens_comments'].explode().value_counts().head(10)"
   ]
  },
  {
   "cell_type": "code",
   "execution_count": 52,
   "id": "8b25ec62",
   "metadata": {},
   "outputs": [
    {
     "name": "stdout",
     "output_type": "stream",
     "text": [
      "Top 10 Tokens in 'violations_description':\n"
     ]
    },
    {
     "data": {
      "text/plain": [
       ",              371497\n",
       "AND            172554\n",
       ":              128673\n",
       "MAINTAINED      89070\n",
       "FOOD            89065\n",
       "&               80027\n",
       "PROPERLY        74328\n",
       "CLEAN           71258\n",
       "INSTALLED       69061\n",
       "CONSTRUCTED     68148\n",
       "Name: tokens_description, dtype: int64"
      ]
     },
     "execution_count": 52,
     "metadata": {},
     "output_type": "execute_result"
    }
   ],
   "source": [
    "print(\"Top 10 Tokens in 'violations_description':\")\n",
    "top_10_tokens_description\n",
    "\n",
    "\n"
   ]
  },
  {
   "cell_type": "code",
   "execution_count": 53,
   "id": "9cb8929a",
   "metadata": {
    "scrolled": true
   },
   "outputs": [
    {
     "name": "stdout",
     "output_type": "stream",
     "text": [
      "\n",
      "Top 10 Tokens in 'violations_comments':\n"
     ]
    },
    {
     "data": {
      "text/plain": [
       ".             737834\n",
       "AND           375064\n",
       ",             356067\n",
       "THE           277663\n",
       "IN            250658\n",
       "TO            239880\n",
       "OF            162239\n",
       "MUST          151551\n",
       "ON            143199\n",
       "INSTRUCTED    131230\n",
       "Name: tokens_comments, dtype: int64"
      ]
     },
     "execution_count": 53,
     "metadata": {},
     "output_type": "execute_result"
    }
   ],
   "source": [
    "print(\"\\nTop 10 Tokens in 'violations_comments':\")\n",
    "top_10_tokens_comments"
   ]
  },
  {
   "cell_type": "markdown",
   "id": "e093ae3c",
   "metadata": {},
   "source": [
    "**5. Clean each column: convert to lower case, remove stopwords, punctuation, numbers, etc**"
   ]
  },
  {
   "cell_type": "code",
   "execution_count": 54,
   "id": "90f0c572",
   "metadata": {},
   "outputs": [],
   "source": [
    "import string\n",
    "from nltk.corpus import stopwords"
   ]
  },
  {
   "cell_type": "code",
   "execution_count": 55,
   "id": "fb38e80b",
   "metadata": {},
   "outputs": [
    {
     "name": "stderr",
     "output_type": "stream",
     "text": [
      "[nltk_data] Downloading package stopwords to\n",
      "[nltk_data]     C:\\Users\\MANOJ\\AppData\\Roaming\\nltk_data...\n",
      "[nltk_data]   Package stopwords is already up-to-date!\n"
     ]
    },
    {
     "data": {
      "text/plain": [
       "True"
      ]
     },
     "execution_count": 55,
     "metadata": {},
     "output_type": "execute_result"
    }
   ],
   "source": [
    "nltk.download('stopwords')\n"
   ]
  },
  {
   "cell_type": "code",
   "execution_count": 56,
   "id": "57275c1d",
   "metadata": {},
   "outputs": [],
   "source": [
    "# Convert to lowercase\n",
    "InspectionFail['cleaned_tokens_description'] = InspectionFail['tokens_description'].apply(lambda tokens: [token.lower() for token in tokens])\n",
    "\n",
    "# Remove stopwords and punctuation\n",
    "stop_words = set(stopwords.words('english'))\n",
    "punctuation_table = str.maketrans('', '', string.punctuation)\n",
    "InspectionFail['cleaned_tokens_description'] = InspectionFail['cleaned_tokens_description'].apply(lambda tokens: [token for token in tokens if token.isalpha() and token not in stop_words])\n",
    "InspectionFail['cleaned_tokens_description'] = InspectionFail['cleaned_tokens_description'].apply(lambda tokens: [token.translate(punctuation_table) for token in tokens])\n",
    "\n",
    "# Repeat the same steps for 'tokens_comments'\n",
    "InspectionFail['cleaned_tokens_comments'] = InspectionFail['tokens_comments'].apply(lambda tokens: [token.lower() for token in tokens])\n",
    "InspectionFail['cleaned_tokens_comments'] = InspectionFail['cleaned_tokens_comments'].apply(lambda tokens: [token for token in tokens if token.isalpha() and token not in stop_words])\n",
    "InspectionFail['cleaned_tokens_comments'] = InspectionFail['cleaned_tokens_comments'].apply(lambda tokens: [token.translate(punctuation_table) for token in tokens])"
   ]
  },
  {
   "cell_type": "code",
   "execution_count": 57,
   "id": "eb4a51db",
   "metadata": {},
   "outputs": [],
   "source": [
    "#InspectionFail[(InspectionFail['cleaned_tokens_description'].apply(bool)) | (InspectionFail['cleaned_tokens_comments'].apply(bool))].head(3)"
   ]
  },
  {
   "cell_type": "markdown",
   "id": "8c56c21c",
   "metadata": {},
   "source": [
    "**6. Find top-10 tokens again**"
   ]
  },
  {
   "cell_type": "code",
   "execution_count": 58,
   "id": "14587b3f",
   "metadata": {},
   "outputs": [],
   "source": [
    "top_10_cleaned_description = InspectionFail['cleaned_tokens_description'].explode().value_counts().head(10)\n",
    "top_10_cleaned_comments = InspectionFail['cleaned_tokens_comments'].explode().value_counts().head(10)\n"
   ]
  },
  {
   "cell_type": "code",
   "execution_count": 59,
   "id": "9f769ff9",
   "metadata": {},
   "outputs": [
    {
     "name": "stdout",
     "output_type": "stream",
     "text": [
      "\n",
      "Top-10 tokens in 'cleaned_description':\n"
     ]
    },
    {
     "data": {
      "text/plain": [
       "maintained     89070\n",
       "food           89065\n",
       "properly       74328\n",
       "clean          71258\n",
       "installed      69061\n",
       "constructed    68148\n",
       "equipment      64822\n",
       "surfaces       51350\n",
       "cleaning       48220\n",
       "contact        47852\n",
       "Name: cleaned_tokens_description, dtype: int64"
      ]
     },
     "execution_count": 59,
     "metadata": {},
     "output_type": "execute_result"
    }
   ],
   "source": [
    "print(\"\\nTop-10 tokens in 'cleaned_description':\")\n",
    "top_10_cleaned_description"
   ]
  },
  {
   "cell_type": "code",
   "execution_count": 60,
   "id": "68f091bf",
   "metadata": {},
   "outputs": [
    {
     "name": "stdout",
     "output_type": "stream",
     "text": [
      "\n",
      "Top-10 tokens in 'cleaned_comments':\n"
     ]
    },
    {
     "data": {
      "text/plain": [
       "must          161078\n",
       "instructed    138092\n",
       "food          136025\n",
       "observed      127514\n",
       "clean         114554\n",
       "area          105921\n",
       "maintain       90330\n",
       "prep           85470\n",
       "sink           84928\n",
       "provide        76260\n",
       "Name: cleaned_tokens_comments, dtype: int64"
      ]
     },
     "execution_count": 60,
     "metadata": {},
     "output_type": "execute_result"
    }
   ],
   "source": [
    "print(\"\\nTop-10 tokens in 'cleaned_comments':\")\n",
    "top_10_cleaned_comments"
   ]
  },
  {
   "cell_type": "markdown",
   "id": "588828af",
   "metadata": {},
   "source": [
    "**7. Find top-10 tokens after applying Porter stemming to the columns obtained in step 5.**"
   ]
  },
  {
   "cell_type": "code",
   "execution_count": 61,
   "id": "68361bbf",
   "metadata": {},
   "outputs": [],
   "source": [
    "from nltk.stem import PorterStemmer"
   ]
  },
  {
   "cell_type": "code",
   "execution_count": 62,
   "id": "5acde3b9",
   "metadata": {},
   "outputs": [],
   "source": [
    "from collections import Counter"
   ]
  },
  {
   "cell_type": "code",
   "execution_count": 63,
   "id": "46a9c62a",
   "metadata": {},
   "outputs": [],
   "source": [
    "porter = PorterStemmer()\n",
    "InspectionFail['porter_stemmed_description'] = InspectionFail['cleaned_tokens_description'].apply(lambda tokens: [porter.stem(token) for token in tokens])\n",
    "InspectionFail['porter_stemmed_comments'] = InspectionFail['cleaned_tokens_comments'].apply(lambda tokens: [porter.stem(token) for token in tokens])\n",
    "flat_description_tokens = [token for sublist in InspectionFail['porter_stemmed_description'] for token in sublist]\n",
    "flat_comments_tokens = [token for sublist in InspectionFail['porter_stemmed_comments'] for token in sublist]\n",
    "top_10_description_porter = Counter(flat_description_tokens).most_common(10)\n",
    "top_10_comments_porter = Counter(flat_comments_tokens).most_common(10)\n"
   ]
  },
  {
   "cell_type": "code",
   "execution_count": 64,
   "id": "a4335253",
   "metadata": {
    "scrolled": true
   },
   "outputs": [
    {
     "name": "stdout",
     "output_type": "stream",
     "text": [
      "Top 10 Porter Stemmed Tokens in Description:\n"
     ]
    },
    {
     "data": {
      "text/plain": [
       "[('clean', 146649),\n",
       " ('food', 94319),\n",
       " ('maintain', 92616),\n",
       " ('properli', 74328),\n",
       " ('instal', 69061),\n",
       " ('construct', 68148),\n",
       " ('equip', 64822),\n",
       " ('surfac', 51350),\n",
       " ('contact', 47852),\n",
       " ('use', 42658)]"
      ]
     },
     "execution_count": 64,
     "metadata": {},
     "output_type": "execute_result"
    }
   ],
   "source": [
    "print(\"Top 10 Porter Stemmed Tokens in Description:\")\n",
    "top_10_description_porter\n",
    "\n"
   ]
  },
  {
   "cell_type": "code",
   "execution_count": 65,
   "id": "71019579",
   "metadata": {},
   "outputs": [
    {
     "name": "stdout",
     "output_type": "stream",
     "text": [
      "\n",
      "Top 10 Porter Stemmed Tokens in Comments:\n"
     ]
    },
    {
     "data": {
      "text/plain": [
       "[('food', 161869),\n",
       " ('must', 161083),\n",
       " ('area', 145065),\n",
       " ('clean', 141816),\n",
       " ('instruct', 138292),\n",
       " ('observ', 127996),\n",
       " ('sink', 101716),\n",
       " ('maintain', 101252),\n",
       " ('floor', 94153),\n",
       " ('provid', 88681)]"
      ]
     },
     "execution_count": 65,
     "metadata": {},
     "output_type": "execute_result"
    }
   ],
   "source": [
    "print(\"\\nTop 10 Porter Stemmed Tokens in Comments:\")\n",
    "top_10_comments_porter\n"
   ]
  },
  {
   "cell_type": "markdown",
   "id": "b2f0bfe2",
   "metadata": {},
   "source": [
    "**8. Find top-10 tokens after applying Lancaster stemming to the columns obtained in step 5.**"
   ]
  },
  {
   "cell_type": "code",
   "execution_count": 66,
   "id": "642942a4",
   "metadata": {},
   "outputs": [],
   "source": [
    "from nltk.stem import LancasterStemmer"
   ]
  },
  {
   "cell_type": "code",
   "execution_count": 67,
   "id": "be14e3a6",
   "metadata": {},
   "outputs": [],
   "source": [
    "lancaster = LancasterStemmer()\n",
    "InspectionFail['lancaster_stemmed_description'] = InspectionFail['cleaned_tokens_description'].apply(lambda tokens: [lancaster.stem(token) for token in tokens])\n",
    "InspectionFail['lancaster_stemmed_comments'] = InspectionFail['cleaned_tokens_comments'].apply(lambda tokens: [lancaster.stem(token) for token in tokens])\n",
    "flat_description_tokens = [token for sublist in InspectionFail['lancaster_stemmed_description'] for token in sublist]\n",
    "flat_comments_tokens = [token for sublist in InspectionFail['lancaster_stemmed_comments'] for token in sublist]\n",
    "top_10_description_lancaster = Counter(flat_description_tokens).most_common(10)\n",
    "top_10_comments_lancaster = Counter(flat_comments_tokens).most_common(10)\n"
   ]
  },
  {
   "cell_type": "code",
   "execution_count": 68,
   "id": "6dd73cd8",
   "metadata": {},
   "outputs": [
    {
     "name": "stdout",
     "output_type": "stream",
     "text": [
      "Top 10 Lancaster Stemmed Tokens in Description:\n"
     ]
    },
    {
     "data": {
      "text/plain": [
       "[('cle', 156104),\n",
       " ('food', 94319),\n",
       " ('maintain', 92616),\n",
       " ('prop', 92419),\n",
       " ('instal', 69061),\n",
       " ('construct', 68148),\n",
       " ('equip', 64822),\n",
       " ('surfac', 51350),\n",
       " ('contact', 47852),\n",
       " ('us', 42658)]"
      ]
     },
     "execution_count": 68,
     "metadata": {},
     "output_type": "execute_result"
    }
   ],
   "source": [
    "print(\"Top 10 Lancaster Stemmed Tokens in Description:\")\n",
    "top_10_description_lancaster\n"
   ]
  },
  {
   "cell_type": "code",
   "execution_count": 69,
   "id": "4d3731dc",
   "metadata": {},
   "outputs": [
    {
     "name": "stdout",
     "output_type": "stream",
     "text": [
      "\n",
      "Top 10 Lancaster Stemmed Tokens in Comments:\n"
     ]
    },
    {
     "data": {
      "text/plain": [
       "[('food', 161870),\n",
       " ('must', 161085),\n",
       " ('cle', 154521),\n",
       " ('instruct', 138326),\n",
       " ('observ', 127995),\n",
       " ('are', 105921),\n",
       " ('prep', 103845),\n",
       " ('sink', 101718),\n",
       " ('maintain', 101266),\n",
       " ('stor', 99833)]"
      ]
     },
     "execution_count": 69,
     "metadata": {},
     "output_type": "execute_result"
    }
   ],
   "source": [
    "print(\"\\nTop 10 Lancaster Stemmed Tokens in Comments:\")\n",
    "top_10_comments_lancaster"
   ]
  },
  {
   "cell_type": "markdown",
   "id": "fde7d356",
   "metadata": {},
   "source": [
    "**9. Find top-10 tokens after applying lemmatization to the columns obtained in step 5.**"
   ]
  },
  {
   "cell_type": "code",
   "execution_count": 70,
   "id": "c2c24052",
   "metadata": {},
   "outputs": [],
   "source": [
    "from nltk.stem import WordNetLemmatizer"
   ]
  },
  {
   "cell_type": "code",
   "execution_count": 71,
   "id": "59535282",
   "metadata": {},
   "outputs": [],
   "source": [
    "lemmatizer = WordNetLemmatizer()\n",
    "InspectionFail['lemmatized_tokens_description'] = InspectionFail['cleaned_tokens_description'].apply(lambda tokens: [lemmatizer.lemmatize(token) for token in tokens])\n",
    "InspectionFail['lemmatized_tokens_comments'] = InspectionFail['cleaned_tokens_comments'].apply(lambda tokens: [lemmatizer.lemmatize(token) for token in tokens])\n",
    "top_10_lemmatized_description = InspectionFail['lemmatized_tokens_description'].explode().value_counts().head(10)\n",
    "top_10_lemmatized_comments = InspectionFail['lemmatized_tokens_comments'].explode().value_counts().head(10)\n"
   ]
  },
  {
   "cell_type": "code",
   "execution_count": 73,
   "id": "db916271",
   "metadata": {},
   "outputs": [
    {
     "name": "stdout",
     "output_type": "stream",
     "text": [
      "Top 10 Lemmatized Tokens (Description):\n",
      " food           94319\n",
      "maintained     89070\n",
      "properly       74328\n",
      "clean          71258\n",
      "installed      69061\n",
      "constructed    68148\n",
      "equipment      64822\n",
      "surface        51350\n",
      "cleaning       48220\n",
      "contact        47852\n",
      "Name: lemmatized_tokens_description, dtype: int64\n"
     ]
    }
   ],
   "source": [
    "print(\"Top 10 Lemmatized Tokens (Description):\\n\", top_10_lemmatized_description)\n"
   ]
  },
  {
   "cell_type": "code",
   "execution_count": 74,
   "id": "bf246836",
   "metadata": {},
   "outputs": [
    {
     "name": "stdout",
     "output_type": "stream",
     "text": [
      "\n",
      "Top 10 Lemmatized Tokens (Comments):\n",
      " food          161868\n",
      "must          161082\n",
      "area          145066\n",
      "instructed    138092\n",
      "observed      127514\n",
      "clean         114561\n",
      "sink          101715\n",
      "floor          93775\n",
      "maintain       90330\n",
      "prep           85483\n",
      "Name: lemmatized_tokens_comments, dtype: int64\n"
     ]
    }
   ],
   "source": [
    "print(\"\\nTop 10 Lemmatized Tokens (Comments):\\n\", top_10_lemmatized_comments)\n"
   ]
  },
  {
   "cell_type": "markdown",
   "id": "d6dcb62a",
   "metadata": {},
   "source": [
    "**10. Compare top-10 tokens obtained in 4, 6, 7, 8, 9.**"
   ]
  },
  {
   "cell_type": "code",
   "execution_count": 76,
   "id": "f38f1042",
   "metadata": {},
   "outputs": [
    {
     "name": "stdout",
     "output_type": "stream",
     "text": [
      "Top-10 Tokens (Original):\n",
      " ,              371497\n",
      "AND            172554\n",
      ":              128673\n",
      "MAINTAINED      89070\n",
      "FOOD            89065\n",
      "&               80027\n",
      "PROPERLY        74328\n",
      "CLEAN           71258\n",
      "INSTALLED       69061\n",
      "CONSTRUCTED     68148\n",
      "Name: tokens_description, dtype: int64\n",
      "\n",
      "Top-10 Tokens (Cleaned and Lowercased):\n",
      " maintained     89070\n",
      "food           89065\n",
      "properly       74328\n",
      "clean          71258\n",
      "installed      69061\n",
      "constructed    68148\n",
      "equipment      64822\n",
      "surfaces       51350\n",
      "cleaning       48220\n",
      "contact        47852\n",
      "Name: cleaned_tokens_description, dtype: int64\n",
      "\n",
      "Top-10 Tokens (Porter Stemming):\n",
      " [('clean', 146649), ('food', 94319), ('maintain', 92616), ('properli', 74328), ('instal', 69061), ('construct', 68148), ('equip', 64822), ('surfac', 51350), ('contact', 47852), ('use', 42658)]\n",
      "\n",
      "Top-10 Tokens (Lancaster Stemming):\n",
      " [('cle', 156104), ('food', 94319), ('maintain', 92616), ('prop', 92419), ('instal', 69061), ('construct', 68148), ('equip', 64822), ('surfac', 51350), ('contact', 47852), ('us', 42658)]\n",
      "\n",
      "Top-10 Tokens (Lemmatization):\n",
      " food           94319\n",
      "maintained     89070\n",
      "properly       74328\n",
      "clean          71258\n",
      "installed      69061\n",
      "constructed    68148\n",
      "equipment      64822\n",
      "surface        51350\n",
      "cleaning       48220\n",
      "contact        47852\n",
      "Name: lemmatized_tokens_description, dtype: int64\n"
     ]
    }
   ],
   "source": [
    "print(\"Top-10 Tokens (Original):\\n\", top_10_tokens_description)\n",
    "print(\"\\nTop-10 Tokens (Cleaned and Lowercased):\\n\", top_10_cleaned_description)\n",
    "print(\"\\nTop-10 Tokens (Porter Stemming):\\n\", top_10_description_porter)\n",
    "print(\"\\nTop-10 Tokens (Lancaster Stemming):\\n\", top_10_description_lancaster)\n",
    "print(\"\\nTop-10 Tokens (Lemmatization):\\n\", top_10_lemmatized_description)"
   ]
  },
  {
   "cell_type": "code",
   "execution_count": 77,
   "id": "eba6e464",
   "metadata": {},
   "outputs": [
    {
     "name": "stdout",
     "output_type": "stream",
     "text": [
      "Top-10 Tokens (Original):\n",
      " .             737834\n",
      "AND           375064\n",
      ",             356067\n",
      "THE           277663\n",
      "IN            250658\n",
      "TO            239880\n",
      "OF            162239\n",
      "MUST          151551\n",
      "ON            143199\n",
      "INSTRUCTED    131230\n",
      "Name: tokens_comments, dtype: int64\n",
      "\n",
      "Top-10 Tokens (Cleaned and Lowercased):\n",
      " must          161078\n",
      "instructed    138092\n",
      "food          136025\n",
      "observed      127514\n",
      "clean         114554\n",
      "area          105921\n",
      "maintain       90330\n",
      "prep           85470\n",
      "sink           84928\n",
      "provide        76260\n",
      "Name: cleaned_tokens_comments, dtype: int64\n",
      "\n",
      "Top-10 Tokens (Porter Stemming):\n",
      " [('clean', 146649), ('food', 94319), ('maintain', 92616), ('properli', 74328), ('instal', 69061), ('construct', 68148), ('equip', 64822), ('surfac', 51350), ('contact', 47852), ('use', 42658)]\n",
      "\n",
      "Top-10 Tokens (Lancaster Stemming):\n",
      " [('food', 161870), ('must', 161085), ('cle', 154521), ('instruct', 138326), ('observ', 127995), ('are', 105921), ('prep', 103845), ('sink', 101718), ('maintain', 101266), ('stor', 99833)]\n",
      "\n",
      "Top-10 Tokens (Lemmatization):\n",
      " food          161868\n",
      "must          161082\n",
      "area          145066\n",
      "instructed    138092\n",
      "observed      127514\n",
      "clean         114561\n",
      "sink          101715\n",
      "floor          93775\n",
      "maintain       90330\n",
      "prep           85483\n",
      "Name: lemmatized_tokens_comments, dtype: int64\n"
     ]
    }
   ],
   "source": [
    "print(\"Top-10 Tokens (Original):\\n\", top_10_tokens_comments)\n",
    "print(\"\\nTop-10 Tokens (Cleaned and Lowercased):\\n\", top_10_cleaned_comments)\n",
    "print(\"\\nTop-10 Tokens (Porter Stemming):\\n\", top_10_description_porter)\n",
    "print(\"\\nTop-10 Tokens (Lancaster Stemming):\\n\", top_10_comments_lancaster)\n",
    "print(\"\\nTop-10 Tokens (Lemmatization):\\n\", top_10_lemmatized_comments)"
   ]
  },
  {
   "cell_type": "markdown",
   "id": "d62764d8",
   "metadata": {},
   "source": [
    "**11. Describe which approach provided the most comprehensive view of violations / comments and why?**"
   ]
  },
  {
   "cell_type": "markdown",
   "id": "647e6214",
   "metadata": {},
   "source": [
    "Lemmatization is the optimal approach, effectively preserving meaning and reducing noise.It balances capturing general themes (like \"food\" and \"clean\") while still paying attention to specific terms important for food inspections. It's like having a well-organized report you can easily use to identify key issues."
   ]
  },
  {
   "cell_type": "markdown",
   "id": "c57ad125",
   "metadata": {},
   "source": [
    "**12. Use the \"most effective\" cleaning approach to plot the distribution of most common tokens (belonging to violation description) over time**"
   ]
  },
  {
   "cell_type": "code",
   "execution_count": 78,
   "id": "7cfc73aa",
   "metadata": {},
   "outputs": [],
   "source": [
    "import matplotlib.pyplot as plt\n",
    "from collections import Counter\n",
    "from itertools import chain\n",
    "import seaborn as sns"
   ]
  },
  {
   "cell_type": "code",
   "execution_count": 85,
   "id": "2a74d868",
   "metadata": {
    "scrolled": true
   },
   "outputs": [
    {
     "data": {
      "image/png": "[encoded data removed]",
      "text/plain": [
       "<Figure size 1200x600 with 1 Axes>"
      ]
     },
     "metadata": {},
     "output_type": "display_data"
    }
   ],
   "source": [
    "InspectionFail['Inspection Date'] = pd.to_datetime(InspectionFail['Inspection Date'])\n",
    "InspectionFail['Year'] = InspectionFail['Inspection Date'].dt.year\n",
    "top_tokens = [token for token, count in top_10_lemmatized_description.items()]\n",
    "yearly_counts = pd.DataFrame(index=InspectionFail['Year'].unique(), columns=top_tokens).fillna(0)\n",
    "for token in top_tokens:\n",
    "    yearly_data = InspectionFail[InspectionFail['lemmatized_tokens_description'].apply(lambda x: token in x)]\n",
    "    counts = yearly_data.groupby('Year').size()\n",
    "    yearly_counts[token] = counts.reindex(yearly_counts.index, fill_value=0)\n",
    "\n",
    "yearly_counts.sort_index(inplace=True)  \n",
    "sns.set(style=\"whitegrid\")\n",
    "palette = sns.color_palette(\"Set2\", n_colors=len(top_tokens))\n",
    "plt.figure(figsize=(12, 6))\n",
    "\n",
    "for i, token in enumerate(top_tokens):\n",
    "    plt.plot(yearly_counts.index, yearly_counts[token], label=token, marker='o', linestyle='-', color=palette[i], markersize=8)\n",
    "\n",
    "plt.title('Yearly Trend of Most Common Tokens (Lemmatized)')\n",
    "plt.xlabel('Year')\n",
    "plt.ylabel('Token Count')\n",
    "plt.legend(title='Top Tokens', bbox_to_anchor=(1, 1), loc='upper left')\n",
    "plt.tight_layout()\n",
    "plt.show()"
   ]
  },
  {
   "cell_type": "markdown",
   "id": "ef7159c1",
   "metadata": {},
   "source": [
    "The graph shows the yearly frequency of the most common tokens found in regulation descriptions for failed food inspections in Chicago from 2010 to 2024. The tokens are lemmatized, which means that they have been reduced to their base form.\n",
    "\n",
    "The top five most common tokens in each year are listed on the right side of the graph. For example, in 2010, the top five tokens were \"food\", \"maintained\", \"properly\", \"clean\", and \"installed\".\n",
    "\n",
    "**Observation:**\n",
    "The overall frequency of tokens has increased over time. This could be due to a number of factors, such as an increase in the number of food inspections, an increase in the number of violations per inspection, or a change in the way that violations are recorded.\n",
    "The top five tokens have changed over time. This could be due to changes in the regulations themselves, or changes in the practices of food establishments.\n",
    "There is a sharp increase in the frequency of the token \"food\" in 2016. This could be due to a specific event or change in regulations that occurred in that year."
   ]
  }
 ],
 "metadata": {
  "kernelspec": {
   "display_name": "Python 3 (ipykernel)",
   "language": "python",
   "name": "python3"
  },
  "language_info": {
   "codemirror_mode": {
    "name": "ipython",
    "version": 3
   },
   "file_extension": ".py",
   "mimetype": "text/x-python",
   "name": "python",
   "nbconvert_exporter": "python",
   "pygments_lexer": "ipython3",
   "version": "3.10.9"
  }
 },
 "nbformat": 4,
 "nbformat_minor": 5
}
